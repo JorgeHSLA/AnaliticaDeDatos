{
  "nbformat": 4,
  "nbformat_minor": 0,
  "metadata": {
    "colab": {
      "provenance": [],
      "include_colab_link": true
    },
    "kernelspec": {
      "name": "python3",
      "display_name": "Python 3"
    },
    "language_info": {
      "name": "python"
    }
  },
  "cells": [
    {
      "cell_type": "markdown",
      "metadata": {
        "id": "view-in-github",
        "colab_type": "text"
      },
      "source": [
        "<a href=\"https://colab.research.google.com/github/JorgeHSLA/AnaliticaDeDatos/blob/main/Ejercicio_AprendizajeSupervisado_Regresion3.ipynb\" target=\"_parent\"><img src=\"https://colab.research.google.com/assets/colab-badge.svg\" alt=\"Open In Colab\"/></a>"
      ]
    },
    {
      "cell_type": "markdown",
      "source": [
        "# Regresión Lineal\n",
        "\n",
        "En este ejercicio abordaremos algunos problemas de aprendizaje supervisado, particularmente regresión lineal. Cubriremos las soluciones ya implementadas en Python. Continúe trabajando en el documento de bitácora para registrar lo ejecutado y los ajustes realizados para resolver las preguntas.\n",
        "\n",
        "## 3.  Regresión lineal multivariable\n",
        "\n",
        "Ahora usemos datos reales para verificar cómo podemos resolver problemas de regresión multivariable.\n",
        "\n",
        "Para este ejemplo utilizaremos la base de datos Residential Building Data Set. Empecemos por cargar y observar los datos."
      ],
      "metadata": {
        "id": "OuT6T3JAvgb5"
      }
    },
    {
      "cell_type": "code",
      "execution_count": null,
      "metadata": {
        "id": "-L3ZjDuhGAIs"
      },
      "outputs": [],
      "source": [
        "import numpy as np\n",
        "import pandas as pd\n",
        "import matplotlib.pyplot as plt\n",
        "\n",
        "%matplotlib inline"
      ]
    },
    {
      "cell_type": "code",
      "source": [
        "from google.colab import files\n",
        "from google.colab import drive\n",
        "drive.mount('/content/drive')"
      ],
      "metadata": {
        "id": "MlHDGlzr6Cw6"
      },
      "execution_count": null,
      "outputs": []
    },
    {
      "cell_type": "code",
      "source": [
        "data=pd.read_excel(\"/content/drive/MyDrive/Colab Notebooks/Real estate valuation data set.xlsx\")\n",
        "data.shape"
      ],
      "metadata": {
        "id": "FdCscVfS7Qz8"
      },
      "execution_count": null,
      "outputs": []
    },
    {
      "cell_type": "code",
      "source": [
        "# Observando los datos\n",
        "data.head(10)"
      ],
      "metadata": {
        "id": "-y5jQXcugUwM"
      },
      "execution_count": null,
      "outputs": []
    },
    {
      "cell_type": "code",
      "source": [
        "# Graficando las variables de interés\n",
        "plt.scatter(data['X2 house age'], data['Y house price of unit area'])\n",
        "plt.xlabel('Age [years]')\n",
        "plt.ylabel('Price [dollars/$m^2$]')"
      ],
      "metadata": {
        "id": "-S1d--or4Lt9"
      },
      "execution_count": null,
      "outputs": []
    },
    {
      "cell_type": "markdown",
      "source": [
        "Responda en su bitácora las siguientes preguntas:\n",
        "\n",
        "1. Realice la regresión del precio con relación a la edad de la vivienda. Grafique su resultado"
      ],
      "metadata": {
        "id": "USAYvBB19adq"
      }
    },
    {
      "cell_type": "code",
      "source": [
        "# ingrese su código"
      ],
      "metadata": {
        "id": "MAAwpG4E9WXz"
      },
      "execution_count": null,
      "outputs": []
    },
    {
      "cell_type": "markdown",
      "source": [
        "2. Ajuste el modelo anterior usando un polinomio de grado 2, explique sus resultados. Repita el procediemiento con un polinomio de grado 10."
      ],
      "metadata": {
        "id": "7boBqoax9y86"
      }
    },
    {
      "cell_type": "code",
      "source": [
        "#ingrese su código"
      ],
      "metadata": {
        "id": "nCcYrnz8-DE7"
      },
      "execution_count": null,
      "outputs": []
    },
    {
      "cell_type": "markdown",
      "source": [
        "3. Realice el mismo procedimiento usando las variables de ubicación (X5, latitud y X6, longitud). Explique su resultado"
      ],
      "metadata": {
        "id": "Q8eP6hzW7tki"
      }
    },
    {
      "cell_type": "code",
      "source": [
        "#ingrese su código"
      ],
      "metadata": {
        "id": "DHCLWyL69wDi"
      },
      "execution_count": null,
      "outputs": []
    },
    {
      "cell_type": "markdown",
      "source": [
        "4. Explique que variable(s) y que modelo predice mejor el precio de la vivienda. Justifique su respuesta."
      ],
      "metadata": {
        "id": "g4178ipT-nsS"
      }
    }
  ]
}